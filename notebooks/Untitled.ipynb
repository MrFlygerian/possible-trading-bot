{
 "cells": [
  {
   "cell_type": "code",
   "execution_count": 1,
   "id": "cb0e1dc0",
   "metadata": {},
   "outputs": [],
   "source": [
    "import yfinance as yf\n",
    "import sklearn\n",
    "import pandas as pd\n",
    "import datetime\n",
    "from finta import TA\n",
    "import time\n",
    "import numpy as np\n",
    "\n",
    "import sklearn\n",
    "from sklearn.model_selection import cross_val_score\n",
    "from sklearn.ensemble import RandomForestClassifier\n",
    "from sklearn.neighbors import KNeighborsClassifier\n",
    "from sklearn.model_selection import train_test_split\n",
    "from sklearn.metrics import confusion_matrix, classification_report, plot_confusion_matrix"
   ]
  },
  {
   "cell_type": "code",
   "execution_count": 2,
   "id": "c522cebf",
   "metadata": {},
   "outputs": [],
   "source": [
    "NUM_DAYS = 1000     # The number of days of historical data to retrieve\n",
    "INTERVAL = '1d'     # Sample rate of historical data"
   ]
  },
  {
   "cell_type": "code",
   "execution_count": 3,
   "id": "346cfc5b",
   "metadata": {},
   "outputs": [],
   "source": [
    "INDICATORS = ['RSI', 'MACD',\n",
    "              'STOCH', 'ADL',\n",
    "              'ATR', 'MOM',\n",
    "              'MFI', 'ROC',\n",
    "              'OBV', 'CCI',\n",
    "              'EMV', 'VORTEX']\n",
    "\n",
    "tickers = ('TSLA', 'GOOGL', 'GME', 'AMZN')"
   ]
  },
  {
   "cell_type": "code",
   "execution_count": 4,
   "id": "8abf8c9c",
   "metadata": {},
   "outputs": [],
   "source": [
    "def _get_historical_data(tickers, NUM_DAYS, INTERVAL):\n",
    "    \"\"\"\n",
    "    Function that uses the yfinance API to get stock data\n",
    "    :return:\n",
    "    \"\"\"\n",
    "\n",
    "    start = (datetime.date.today() - datetime.timedelta(NUM_DAYS))\n",
    "    end = datetime.datetime.today()\n",
    "\n",
    "#     data = yf.download(ticker, start=start, end=end, interval=INTERVAL)\n",
    "    data = yf.download(tickers, start=start, end=end, interval=INTERVAL, group_by='Ticker')\n",
    "    data = data.stack(level=0).rename_axis(['Date', 'Ticker']).reset_index(level=1)\n",
    "    data.rename(columns={\"Close\": 'close',\n",
    "                         \"Adj Close\": 'adj close',\n",
    "                         \"High\": 'high',\n",
    "                         \"Low\": 'low',\n",
    "                         'Volume': 'volume',\n",
    "                         'Open': 'open'},\n",
    "                inplace=True)\n",
    "    return data\n"
   ]
  },
  {
   "cell_type": "code",
   "execution_count": 5,
   "id": "79fc369c",
   "metadata": {},
   "outputs": [
    {
     "name": "stdout",
     "output_type": "stream",
     "text": [
      "[*********************100%***********************]  4 of 4 completed\n"
     ]
    },
    {
     "data": {
      "text/plain": [
       "Ticker\n",
       "AMZN     AxesSubplot(0.125,0.2;0.775x0.68)\n",
       "GME      AxesSubplot(0.125,0.2;0.775x0.68)\n",
       "GOOGL    AxesSubplot(0.125,0.2;0.775x0.68)\n",
       "TSLA     AxesSubplot(0.125,0.2;0.775x0.68)\n",
       "Name: adj close, dtype: object"
      ]
     },
     "execution_count": 5,
     "metadata": {},
     "output_type": "execute_result"
    },
    {
     "data": {
      "image/png": "[encoded data removed]",
      "text/plain": [
       "<Figure size 432x288 with 1 Axes>"
      ]
     },
     "metadata": {
      "needs_background": "light"
     },
     "output_type": "display_data"
    }
   ],
   "source": [
    "stock_df = _get_historical_data(tickers, NUM_DAYS = 1000, INTERVAL= '1d')\n",
    "stock_df.last('80D').groupby('Ticker')['adj close'].plot(legend=True)"
   ]
  },
  {
   "cell_type": "code",
   "execution_count": 6,
   "id": "9e04ec47",
   "metadata": {},
   "outputs": [],
   "source": [
    "def _exponential_smooth(data, alpha):\n",
    "    \"\"\"\n",
    "    Function that exponentially smooths dataset so values are less 'rigid'\n",
    "    :param alpha: weight factor to weight recent values more\n",
    "    \"\"\"\n",
    "    return data.ewm(alpha=alpha).mean()\n",
    "\n",
    "\n",
    "def _get_indicator_data(data):\n",
    "    \"\"\"\n",
    "    Function that uses the finta API to calculate technical indicators used as the features\n",
    "    :return:\n",
    "    \"\"\"\n",
    "\n",
    "    for indicator in INDICATORS:\n",
    "        ind_data = eval('TA.' + indicator + '(data)')\n",
    "        if not isinstance(ind_data, pd.DataFrame):\n",
    "            ind_data = ind_data.to_frame()\n",
    "        data = data.merge(ind_data, left_index=True, right_index=True)\n",
    "    data.rename(columns={\"14 period EMV.\": '14 period EMV'}, inplace=True)\n",
    "\n",
    "    # Also calculate moving averages for features\n",
    "    data['ema50'] = data['close'] / data['close'].ewm(50).mean()\n",
    "    data['ema21'] = data['close'] / data['close'].ewm(21).mean()\n",
    "    data['ema15'] = data['close'] / data['close'].ewm(14).mean()\n",
    "    data['ema5'] = data['close'] / data['close'].ewm(5).mean()\n",
    "\n",
    "    # Instead of using the actual volume value (which changes over time), we normalize it with a moving volume average\n",
    "    data['normVol'] = data['volume'] / data['volume'].ewm(5).mean()\n",
    "\n",
    "    # Remove columns that won't be used as features\n",
    "    del (data['open'])\n",
    "    del (data['high'])\n",
    "    del (data['low'])\n",
    "    del (data['volume'])\n",
    "    del (data['adj close'])\n",
    "\n",
    "    return data\n",
    "\n",
    "def clean_data(df, alpha=0.65):\n",
    "    \"\"\"\n",
    "    Combine all data manipulation functions\n",
    "\n",
    "    :param df: dataframe\n",
    "    :param alpha: exponent factor\n",
    "    :param window: look ahead time in days\n",
    "    :return:\n",
    "    Dataframe with features and prediction target\n",
    "    \"\"\"\n",
    "    df = _exponential_smooth(df, alpha=alpha)\n",
    "    df = _get_indicator_data(df)\n",
    "#     df.dropna(inplace=True)\n",
    "\n",
    "    return df\n",
    "\n",
    "def _produce_prediction(data, window=7):\n",
    "    \"\"\"\n",
    "    Function that produces the 'truth' values\n",
    "    At a given row, it looks 'window' rows ahead to see if the price increased (1) or decreased (0)\n",
    "    :param window: number of days, or rows to look ahead to see what the price did\n",
    "    \"\"\"\n",
    "\n",
    "    prediction = (data.close.shift(-window) >= data.close)\n",
    "    prediction = prediction.iloc[:-window]\n",
    "    data['pred'] = prediction.astype(int)\n",
    "    data.dropna(inplace=True)\n",
    "\n",
    "    return data"
   ]
  },
  {
   "cell_type": "code",
   "execution_count": 7,
   "id": "d28e281d",
   "metadata": {},
   "outputs": [],
   "source": [
    "df_list = []\n",
    "for ticker in tickers:\n",
    "    df_list.append(\n",
    "        _produce_prediction(\n",
    "            (clean_data(stock_df.loc[stock_df.Ticker == ticker]))\n",
    "        )\n",
    "    )\n",
    "    \n",
    "ml_df = pd.concat(df_list).sort_index(kind='merge')"
   ]
  },
  {
   "cell_type": "code",
   "execution_count": 8,
   "id": "6bf821ad",
   "metadata": {},
   "outputs": [
    {
     "name": "stdout",
     "output_type": "stream",
     "text": [
      "                  close  14 period RSI       MACD     SIGNAL  \\\n",
      "Date                                                           \n",
      "2021-04-08  3284.248643      69.487221  23.946230  -3.781003   \n",
      "2021-04-09   678.530550      50.586965  -7.780780 -15.813735   \n",
      "2021-04-09  2260.454668      81.340644  51.311895  29.846072   \n",
      "2021-04-09   163.806539      46.921593   7.476590  13.840107   \n",
      "2021-04-09  3341.416993      73.549239  36.395345   4.254267   \n",
      "\n",
      "            14 period STOCH %K           MFV  14 period ATR         MOM  \\\n",
      "Date                                                                      \n",
      "2021-04-08           91.720164  9.962980e+07      61.882409  184.554227   \n",
      "2021-04-09           80.853529  2.899990e+09      29.672948   37.596867   \n",
      "2021-04-09           96.921387  5.644526e+07      42.444973  227.327091   \n",
      "2021-04-09           42.613718 -4.383390e+08      28.273608   -5.933151   \n",
      "2021-04-09           97.462782  1.025406e+08      61.811515  276.454941   \n",
      "\n",
      "            14 period MFI        ROC  ...  20 period CCI  14 period EMV  \\\n",
      "Date                                  ...                                 \n",
      "2021-04-08      63.048322   6.064268  ...     234.157910     252.251250   \n",
      "2021-04-09      52.783798   2.246481  ...      43.517801       1.206875   \n",
      "2021-04-09      79.270700  10.927329  ...     173.800477     376.610092   \n",
      "2021-04-09      58.434590 -12.469182  ...     -95.408978      -6.488179   \n",
      "2021-04-09      72.254364   6.989036  ...     213.625831     319.204959   \n",
      "\n",
      "                 VIm       VIp     ema50     ema21     ema15      ema5  \\\n",
      "Date                                                                     \n",
      "2021-04-08  0.767443  1.232613  1.043740  1.044120  1.046140  1.036632   \n",
      "2021-04-09  0.936156  1.054618  1.034037  0.986599  1.000227  1.015468   \n",
      "2021-04-09  0.590860  1.312061  1.171540  1.098537  1.080191  1.047455   \n",
      "2021-04-09  1.109053  0.910801  1.528941  1.057328  0.963037  0.908454   \n",
      "2021-04-09  0.680158  1.269181  1.060621  1.059296  1.059803  1.045153   \n",
      "\n",
      "             normVol  pred  \n",
      "Date                        \n",
      "2021-04-08  0.958028   1.0  \n",
      "2021-04-09  0.727741   1.0  \n",
      "2021-04-09  0.833403   1.0  \n",
      "2021-04-09  0.658019   0.0  \n",
      "2021-04-09  1.205489   1.0  \n",
      "\n",
      "[5 rows x 21 columns]\n",
      "(2676, 21)\n"
     ]
    }
   ],
   "source": [
    "print(ml_df.tail())\n",
    "print(ml_df.shape)"
   ]
  },
  {
   "cell_type": "code",
   "execution_count": 9,
   "id": "9ecea43a",
   "metadata": {},
   "outputs": [],
   "source": [
    "X = ml_df.drop('pred', axis = 1)\n",
    "y = ml_df.pred"
   ]
  },
  {
   "cell_type": "code",
   "execution_count": 10,
   "id": "2d4128cd",
   "metadata": {},
   "outputs": [
    {
     "data": {
      "text/plain": [
       "RandomForestClassifier(n_estimators=90)"
      ]
     },
     "execution_count": 10,
     "metadata": {},
     "output_type": "execute_result"
    }
   ],
   "source": [
    "clf = RandomForestClassifier(n_estimators=90)\n",
    "clf.fit(X,y)"
   ]
  },
  {
   "cell_type": "code",
   "execution_count": 11,
   "id": "f6da869d",
   "metadata": {},
   "outputs": [
    {
     "name": "stdout",
     "output_type": "stream",
     "text": [
      "0.4537581553311288\n"
     ]
    }
   ],
   "source": [
    "print(np.mean(cross_val_score(clf, X, y, cv=8)))"
   ]
  },
  {
   "cell_type": "markdown",
   "id": "4f897c43",
   "metadata": {},
   "source": [
    "# Generate prediction"
   ]
  },
  {
   "cell_type": "code",
   "execution_count": 12,
   "id": "d8368f3b",
   "metadata": {},
   "outputs": [
    {
     "data": {
      "text/plain": [
       "<AxesSubplot:xlabel='Date'>"
      ]
     },
     "execution_count": 12,
     "metadata": {},
     "output_type": "execute_result"
    },
    {
     "data": {
      "image/png": "[encoded data removed]",
      "text/plain": [
       "<Figure size 432x288 with 1 Axes>"
      ]
     },
     "metadata": {
      "needs_background": "light"
     },
     "output_type": "display_data"
    }
   ],
   "source": [
    "goog_df = stock_df.loc[stock_df.Ticker == 'GME']\n",
    "goog_df[['adj close']][-60:].plot()"
   ]
  },
  {
   "cell_type": "code",
   "execution_count": 13,
   "id": "14d57a12",
   "metadata": {},
   "outputs": [],
   "source": [
    "goog_ml_df = _produce_prediction(\n",
    "    (clean_data(goog_df))\n",
    ")\n",
    "\n",
    "X_goog = goog_ml_df.iloc[:, :-1]\n",
    "y_goog = goog_ml_df.pred"
   ]
  },
  {
   "cell_type": "code",
   "execution_count": 14,
   "id": "a69271c3",
   "metadata": {},
   "outputs": [
    {
     "name": "stdout",
     "output_type": "stream",
     "text": [
      "Stock going down, sell\n"
     ]
    }
   ],
   "source": [
    "buy_sell = {1: 'Stock going up, buy',\n",
    "            0: 'Stock going down, sell'}\n",
    "\n",
    "\"This is the prediction for next 7 days:\"\n",
    "pred_df = (clean_data(goog_df))\n",
    "\n",
    "print(buy_sell[clf.predict(pred_df[-1:])[0]])"
   ]
  },
  {
   "cell_type": "code",
   "execution_count": 15,
   "id": "8a027a0a",
   "metadata": {},
   "outputs": [
    {
     "data": {
      "text/plain": [
       "0.43333333333333335"
      ]
     },
     "execution_count": 15,
     "metadata": {},
     "output_type": "execute_result"
    }
   ],
   "source": [
    "clf.predict_proba(pred_df[-1:])[0][1]"
   ]
  },
  {
   "cell_type": "code",
   "execution_count": 16,
   "id": "11c4d88a",
   "metadata": {},
   "outputs": [
    {
     "name": "stdout",
     "output_type": "stream",
     "text": [
      "0.45587707974756164\n"
     ]
    }
   ],
   "source": [
    "print(np.mean(cross_val_score(clf, X_goog, y_goog, cv=8)))"
   ]
  },
  {
   "cell_type": "code",
   "execution_count": null,
   "id": "807b8cb7",
   "metadata": {},
   "outputs": [],
   "source": []
  },
  {
   "cell_type": "code",
   "execution_count": 18,
   "id": "69143b25",
   "metadata": {},
   "outputs": [],
   "source": [
    "# from sklearn import tree\n",
    "# import matplotlib.pyplot as plt\n",
    "\n",
    "# fig, axes = plt.subplots(nrows = 1,ncols = 1,figsize = (20,20), dpi=800)\n",
    "# tree.plot_tree(clf.estimators_[0],\n",
    "#                feature_names = X.columns, \n",
    "#                class_names=y.name,\n",
    "#                filled = True)"
   ]
  },
  {
   "cell_type": "code",
   "execution_count": 19,
   "id": "c27b95e4",
   "metadata": {},
   "outputs": [],
   "source": [
    "# fig, axes = plt.subplots(nrows = 1,ncols = 5,figsize = (50,10), dpi=900)\n",
    "# for index in range(0, 5):\n",
    "#     tree.plot_tree(clf.estimators_[index],\n",
    "#                    feature_names = X.columns, \n",
    "#                    class_names=y.name,\n",
    "#                    filled = True,\n",
    "#                    ax = axes[index]);\n",
    "\n",
    "#     axes[index].set_title('Estimator: ' + str(index), fontsize = 11)"
   ]
  },
  {
   "cell_type": "code",
   "execution_count": 20,
   "id": "25dddb00",
   "metadata": {},
   "outputs": [
    {
     "data": {
      "text/plain": [
       "90"
      ]
     },
     "execution_count": 20,
     "metadata": {},
     "output_type": "execute_result"
    }
   ],
   "source": [
    "len(clf.estimators_)"
   ]
  },
  {
   "cell_type": "code",
   "execution_count": null,
   "id": "719e5156",
   "metadata": {},
   "outputs": [],
   "source": []
  },
  {
   "cell_type": "code",
   "execution_count": null,
   "id": "d610b105",
   "metadata": {},
   "outputs": [],
   "source": []
  },
  {
   "cell_type": "code",
   "execution_count": null,
   "id": "1d085673",
   "metadata": {},
   "outputs": [],
   "source": []
  },
  {
   "cell_type": "code",
   "execution_count": null,
   "id": "767a75c2",
   "metadata": {},
   "outputs": [],
   "source": []
  },
  {
   "cell_type": "code",
   "execution_count": 21,
   "id": "a1452fbb",
   "metadata": {},
   "outputs": [],
   "source": [
    "def _get_historical_data_mt(tickers, NUM_DAYS, INTERVAL):\n",
    "    \"\"\"\n",
    "    Function that uses the yfinance API to get stock data\n",
    "    :return:\n",
    "    \"\"\"\n",
    "\n",
    "    start = (datetime.date.today() - datetime.timedelta(NUM_DAYS))\n",
    "    end = datetime.datetime.today()\n",
    "\n",
    "    data = yf.download(tickers, start=start, end=end, interval=INTERVAL, group_by='Ticker')\n",
    "    data = data.stack(level=0).rename_axis(['Date', 'Ticker']).reset_index(level=1)\n",
    "    data.rename(columns={\"Ticker\":\"ticker\",\n",
    "                         \"Close\": 'close',\n",
    "                         \"Adj Close\": 'adj close',\n",
    "                         \"High\": 'high',\n",
    "                         \"Low\": 'low',\n",
    "                         'Volume': 'volume',\n",
    "                         'Open': 'open'},\n",
    "                inplace=True)\n",
    "    return data\n",
    "\n",
    "def _produce_prediction_mt(data, window=7):\n",
    "    \"\"\"\n",
    "    Function that produces the 'truth' values\n",
    "    At a given row, it looks 'window' rows ahead to see if the price increased (1) or decreased (0)\n",
    "    :param window: number of days, or rows to look ahead to see what the price did\n",
    "    \"\"\"\n",
    "    \n",
    "    data['pred'] = (data.groupby('ticker').close.shift(-window) >= data.close)\n",
    "    for t in data.ticker.unique():\n",
    "      data.loc[data.ticker == t, 'pred'] = data.loc[df.ticker == t, 'pred'].iloc[:-window]\n",
    "    data.dropna(inplace=True)\n",
    "    data['pred'] = data['pred'].astype(int)\n",
    "\n",
    "    return data"
   ]
  },
  {
   "cell_type": "code",
   "execution_count": null,
   "id": "69c0b692",
   "metadata": {},
   "outputs": [],
   "source": []
  },
  {
   "cell_type": "code",
   "execution_count": 22,
   "id": "6e3b7afb",
   "metadata": {},
   "outputs": [],
   "source": [
    "import altair as alt"
   ]
  },
  {
   "cell_type": "code",
   "execution_count": 23,
   "id": "0a037f37",
   "metadata": {},
   "outputs": [],
   "source": [
    "# Create a selection that chooses the nearest point & selects based on x-value\n",
    "nearest = alt.selection(type='single', nearest=True, on='mouseover',\n",
    "                        fields=['date'], empty='none')\n",
    "\n",
    "# The basic line\n",
    "line = alt.Chart().mark_line(interpolate='basis').encode(\n",
    "    alt.X('Date:T', axis=alt.Axis(title='')),\n",
    "    alt.Y('close:Q', axis=alt.Axis(title='',format='$f')),\n",
    "    color='symbol:N'\n",
    ")\n",
    "\n",
    "# Transparent selectors across the chart. This is what tells us\n",
    "# the x-value of the cursor\n",
    "selectors = alt.Chart().mark_point().encode(\n",
    "    x='Date:T',\n",
    "    opacity=alt.value(0),\n",
    ").add_selection(\n",
    "    nearest\n",
    ")\n",
    "\n",
    "# Draw points on the line, and highlight based on selection\n",
    "points = line.mark_point().encode(\n",
    "    opacity=alt.condition(nearest, alt.value(1), alt.value(0))\n",
    ")\n",
    "\n",
    "# Draw text labels near the points, and highlight based on selection\n",
    "text = line.mark_text(align='left', dx=5, dy=-5).encode(\n",
    "    text=alt.condition(nearest, 'price:Q', alt.value(' '))\n",
    ")\n",
    "\n",
    "# Draw a rule at the location of the selection\n",
    "rules = alt.Chart().mark_rule(color='gray').encode(\n",
    "    x='date:T',\n",
    ").transform_filter(\n",
    "    nearest\n",
    ")\n",
    "\n",
    "# Put the five layers into a chart and bind the data\n",
    "stockChart = alt.layer(line, selectors, points, rules, text,\n",
    "                       data='https://raw.githubusercontent.com/altair-viz/vega_datasets/master/vega_datasets/_data/stocks.csv', \n",
    "                       width=600, height=300,title='Stock History')"
   ]
  },
  {
   "cell_type": "code",
   "execution_count": null,
   "id": "0b10ab54",
   "metadata": {},
   "outputs": [],
   "source": []
  },
  {
   "cell_type": "code",
   "execution_count": 26,
   "id": "144f84ea",
   "metadata": {},
   "outputs": [],
   "source": [
    "ticks = yf.Tickers(list(tickers))"
   ]
  },
  {
   "cell_type": "code",
   "execution_count": 30,
   "id": "5e073fc7",
   "metadata": {},
   "outputs": [],
   "source": [
    "tick = yf.Ticker(tickers[1])"
   ]
  },
  {
   "cell_type": "code",
   "execution_count": 39,
   "id": "44967e31",
   "metadata": {},
   "outputs": [
    {
     "data": {
      "text/plain": [
       "{'zip': '94304',\n",
       " 'sector': 'Consumer Cyclical',\n",
       " 'fullTimeEmployees': 70757,\n",
       " 'longBusinessSummary': 'Tesla, Inc. designs, develops, manufactures, leases, and sells electric vehicles, and energy generation and storage systems in the United States, China, and internationally. The company operates in two segments, Automotive, and Energy Generation and Storage. The Automotive segment offers electric vehicles, as well as sells automotive regulatory credits. It provides sedans and sport utility vehicles through direct and used vehicle sales, a network of Tesla Superchargers, and in-app upgrades; and purchase financing and leasing services. This segment is also involved in the provision of non-warranty after-sales vehicle services, sale of used vehicles, retail merchandise, and vehicle insurance, as well as sale of products through its subsidiaries to third party customers; services for electric vehicles through its company-owned service locations, and Tesla mobile service technicians; and vehicle limited warranties and extended service plans. The Energy Generation and Storage segment engages in the design, manufacture, installation, sale, and leasing of solar energy generation and energy storage products, and related services to residential, commercial, and industrial customers and utilities through its website, stores, and galleries, as well as through a network of channel partners. This segment also offers service and repairs to its energy product customers, including under warranty; and various financing options to its solar customers. The company was formerly known as Tesla Motors, Inc. and changed its name to Tesla, Inc. in February 2017. Tesla, Inc. was founded in 2003 and is headquartered in Palo Alto, California.',\n",
       " 'city': 'Palo Alto',\n",
       " 'phone': '650-681-5000',\n",
       " 'state': 'CA',\n",
       " 'country': 'United States',\n",
       " 'companyOfficers': [],\n",
       " 'website': 'http://www.tesla.com',\n",
       " 'maxAge': 1,\n",
       " 'address1': '3500 Deer Creek Road',\n",
       " 'industry': 'Auto Manufacturers',\n",
       " 'previousClose': 714.63,\n",
       " 'regularMarketOpen': 717.42,\n",
       " 'twoHundredDayAverage': 637.6989,\n",
       " 'trailingAnnualDividendYield': None,\n",
       " 'payoutRatio': 0,\n",
       " 'volume24Hr': None,\n",
       " 'regularMarketDayHigh': 737.25,\n",
       " 'navPrice': None,\n",
       " 'averageDailyVolume10Day': 36362633,\n",
       " 'totalAssets': None,\n",
       " 'regularMarketPreviousClose': 714.63,\n",
       " 'fiftyDayAverage': 673.49884,\n",
       " 'trailingAnnualDividendRate': None,\n",
       " 'open': 717.42,\n",
       " 'toCurrency': None,\n",
       " 'averageVolume10days': 36362633,\n",
       " 'expireDate': None,\n",
       " 'yield': None,\n",
       " 'algorithm': None,\n",
       " 'dividendRate': None,\n",
       " 'exDividendDate': None,\n",
       " 'beta': 2.010479,\n",
       " 'circulatingSupply': None,\n",
       " 'startDate': None,\n",
       " 'regularMarketDayLow': 711.48,\n",
       " 'priceHint': 2,\n",
       " 'currency': 'USD',\n",
       " 'trailingPE': 1123.1893,\n",
       " 'regularMarketVolume': 23489674,\n",
       " 'lastMarket': None,\n",
       " 'maxSupply': None,\n",
       " 'openInterest': None,\n",
       " 'marketCap': 689982603264,\n",
       " 'volumeAllCurrencies': None,\n",
       " 'strikePrice': None,\n",
       " 'averageVolume': 33533454,\n",
       " 'priceToSalesTrailing12Months': 21.879204,\n",
       " 'dayLow': 711.48,\n",
       " 'ask': 722.52,\n",
       " 'ytdReturn': None,\n",
       " 'askSize': 1800,\n",
       " 'volume': 23489674,\n",
       " 'fiftyTwoWeekHigh': 900.4,\n",
       " 'forwardPE': 122.46017,\n",
       " 'fromCurrency': None,\n",
       " 'fiveYearAvgDividendYield': None,\n",
       " 'fiftyTwoWeekLow': 134.758,\n",
       " 'bid': 722.43,\n",
       " 'tradeable': False,\n",
       " 'dividendYield': None,\n",
       " 'bidSize': 900,\n",
       " 'dayHigh': 737.25,\n",
       " 'exchange': 'NMS',\n",
       " 'shortName': 'Tesla, Inc.',\n",
       " 'longName': 'Tesla, Inc.',\n",
       " 'exchangeTimezoneName': 'America/New_York',\n",
       " 'exchangeTimezoneShortName': 'EDT',\n",
       " 'isEsgPopulated': False,\n",
       " 'gmtOffSetMilliseconds': '-14400000',\n",
       " 'quoteType': 'EQUITY',\n",
       " 'symbol': 'TSLA',\n",
       " 'messageBoardId': 'finmb_27444752',\n",
       " 'market': 'us_market',\n",
       " 'annualHoldingsTurnover': None,\n",
       " 'enterpriseToRevenue': 21.605,\n",
       " 'beta3Year': None,\n",
       " 'profitMargins': 0.02286,\n",
       " 'enterpriseToEbitda': 159.454,\n",
       " '52WeekChange': 4.2032123,\n",
       " 'morningStarRiskRating': None,\n",
       " 'forwardEps': 5.87,\n",
       " 'revenueQuarterlyGrowth': None,\n",
       " 'sharesOutstanding': 959854016,\n",
       " 'fundInceptionDate': None,\n",
       " 'annualReportExpenseRatio': None,\n",
       " 'bookValue': 23.151,\n",
       " 'sharesShort': 46269602,\n",
       " 'sharesPercentSharesOut': 0.0482,\n",
       " 'fundFamily': None,\n",
       " 'lastFiscalYearEnd': 1609372800,\n",
       " 'heldPercentInstitutions': 0.46016,\n",
       " 'netIncomeToCommon': 690000000,\n",
       " 'trailingEps': 0.64,\n",
       " 'lastDividendValue': None,\n",
       " 'SandP52WeekChange': 0.521348,\n",
       " 'priceToBook': 31.050116,\n",
       " 'heldPercentInsiders': 0.19732,\n",
       " 'nextFiscalYearEnd': 1672444800,\n",
       " 'mostRecentQuarter': 1609372800,\n",
       " 'shortRatio': 1.13,\n",
       " 'sharesShortPreviousMonthDate': 1614297600,\n",
       " 'floatShares': 771319079,\n",
       " 'enterpriseValue': 681347121152,\n",
       " 'threeYearAverageReturn': None,\n",
       " 'lastSplitDate': 1598832000,\n",
       " 'lastSplitFactor': '5:1',\n",
       " 'legalType': None,\n",
       " 'lastDividendDate': None,\n",
       " 'morningStarOverallRating': None,\n",
       " 'earningsQuarterlyGrowth': 1.571,\n",
       " 'dateShortInterest': 1617148800,\n",
       " 'pegRatio': 5.38,\n",
       " 'lastCapGain': None,\n",
       " 'shortPercentOfFloat': 0.06,\n",
       " 'sharesShortPriorMonth': 44000524,\n",
       " 'impliedSharesOutstanding': None,\n",
       " 'category': None,\n",
       " 'fiveYearAverageReturn': None,\n",
       " 'regularMarketPrice': 718.8412,\n",
       " 'logo_url': 'https://logo.clearbit.com/tesla.com'}"
      ]
     },
     "execution_count": 39,
     "metadata": {},
     "output_type": "execute_result"
    }
   ],
   "source": [
    "ticks.tickers['TSLA'].info"
   ]
  },
  {
   "cell_type": "code",
   "execution_count": 42,
   "id": "0e69d378",
   "metadata": {},
   "outputs": [
    {
     "data": {
      "text/plain": [
       "{'zip': '94043',\n",
       " 'sector': 'Communication Services',\n",
       " 'fullTimeEmployees': 135301,\n",
       " 'longBusinessSummary': 'Alphabet Inc. provides online advertising services in the United States, Europe, the Middle East, Africa, the Asia-Pacific, Canada, and Latin America. The company offers performance and brand advertising services. It operates through Google Services, Google Cloud, and Other Bets segments. The Google Services segment provides products and services, such as ads, Android, Chrome, hardware, Google Maps, Google Play, Search, and YouTube, as well as technical infrastructure; and digital content. The Google Cloud segment offers infrastructure and data analytics platforms, collaboration tools, and other services for enterprise customers. The Other Bets segment sells internet and TV services, as well as licensing and research and development services. The company was founded in 1998 and is headquartered in Mountain View, California.',\n",
       " 'city': 'Mountain View',\n",
       " 'phone': '650-253-0000',\n",
       " 'state': 'CA',\n",
       " 'country': 'United States',\n",
       " 'companyOfficers': [],\n",
       " 'website': 'http://www.abc.xyz',\n",
       " 'maxAge': 1,\n",
       " 'address1': '1600 Amphitheatre Parkway',\n",
       " 'industry': 'Internet Content & Information',\n",
       " 'previousClose': 2289.76,\n",
       " 'regularMarketOpen': 2297.49,\n",
       " 'twoHundredDayAverage': 1864.063,\n",
       " 'trailingAnnualDividendYield': None,\n",
       " 'payoutRatio': 0,\n",
       " 'volume24Hr': None,\n",
       " 'regularMarketDayHigh': 2299,\n",
       " 'navPrice': None,\n",
       " 'averageDailyVolume10Day': 1311733,\n",
       " 'totalAssets': None,\n",
       " 'regularMarketPreviousClose': 2289.76,\n",
       " 'fiftyDayAverage': 2114.6675,\n",
       " 'trailingAnnualDividendRate': None,\n",
       " 'open': 2297.49,\n",
       " 'toCurrency': None,\n",
       " 'averageVolume10days': 1311733,\n",
       " 'expireDate': None,\n",
       " 'yield': None,\n",
       " 'algorithm': None,\n",
       " 'dividendRate': None,\n",
       " 'exDividendDate': None,\n",
       " 'beta': 0.995587,\n",
       " 'circulatingSupply': None,\n",
       " 'startDate': None,\n",
       " 'regularMarketDayLow': 2257.12,\n",
       " 'priceHint': 2,\n",
       " 'currency': 'USD',\n",
       " 'trailingPE': 38.82586,\n",
       " 'regularMarketVolume': 565921,\n",
       " 'lastMarket': None,\n",
       " 'maxSupply': None,\n",
       " 'openInterest': None,\n",
       " 'marketCap': 1538248015872,\n",
       " 'volumeAllCurrencies': None,\n",
       " 'strikePrice': None,\n",
       " 'averageVolume': 1785237,\n",
       " 'priceToSalesTrailing12Months': 8.427509,\n",
       " 'dayLow': 2257.12,\n",
       " 'ask': 2271.2,\n",
       " 'ytdReturn': None,\n",
       " 'askSize': 1000,\n",
       " 'volume': 565921,\n",
       " 'fiftyTwoWeekHigh': 2304.09,\n",
       " 'forwardPE': 28.018959,\n",
       " 'fromCurrency': None,\n",
       " 'fiveYearAvgDividendYield': None,\n",
       " 'fiftyTwoWeekLow': 1205,\n",
       " 'bid': 2270.57,\n",
       " 'tradeable': False,\n",
       " 'dividendYield': None,\n",
       " 'bidSize': 2900,\n",
       " 'dayHigh': 2299,\n",
       " 'exchange': 'NMS',\n",
       " 'shortName': 'Alphabet Inc.',\n",
       " 'longName': 'Alphabet Inc.',\n",
       " 'exchangeTimezoneName': 'America/New_York',\n",
       " 'exchangeTimezoneShortName': 'EDT',\n",
       " 'isEsgPopulated': False,\n",
       " 'gmtOffSetMilliseconds': '-14400000',\n",
       " 'quoteType': 'EQUITY',\n",
       " 'symbol': 'GOOGL',\n",
       " 'messageBoardId': 'finmb_29096',\n",
       " 'market': 'us_market',\n",
       " 'annualHoldingsTurnover': None,\n",
       " 'enterpriseToRevenue': 7.861,\n",
       " 'beta3Year': None,\n",
       " 'profitMargins': 0.22062,\n",
       " 'enterpriseToEbitda': 26.133,\n",
       " '52WeekChange': 0.8889916,\n",
       " 'morningStarRiskRating': None,\n",
       " 'forwardEps': 81.22,\n",
       " 'revenueQuarterlyGrowth': None,\n",
       " 'sharesOutstanding': 300644000,\n",
       " 'fundInceptionDate': None,\n",
       " 'annualReportExpenseRatio': None,\n",
       " 'bookValue': 329.586,\n",
       " 'sharesShort': 3048630,\n",
       " 'sharesPercentSharesOut': 0.0045,\n",
       " 'fundFamily': None,\n",
       " 'lastFiscalYearEnd': 1609372800,\n",
       " 'heldPercentInstitutions': 0.81224996,\n",
       " 'netIncomeToCommon': 40269000704,\n",
       " 'trailingEps': 58.613,\n",
       " 'lastDividendValue': None,\n",
       " 'SandP52WeekChange': 0.521348,\n",
       " 'priceToBook': 6.9047227,\n",
       " 'heldPercentInsiders': 0.0013400001,\n",
       " 'nextFiscalYearEnd': 1672444800,\n",
       " 'mostRecentQuarter': 1609372800,\n",
       " 'shortRatio': 1.85,\n",
       " 'sharesShortPreviousMonthDate': 1614297600,\n",
       " 'floatShares': 607296015,\n",
       " 'enterpriseValue': 1434789216256,\n",
       " 'threeYearAverageReturn': None,\n",
       " 'lastSplitDate': 1396483200,\n",
       " 'lastSplitFactor': '1998:1000',\n",
       " 'legalType': None,\n",
       " 'lastDividendDate': None,\n",
       " 'morningStarOverallRating': None,\n",
       " 'earningsQuarterlyGrowth': 0.427,\n",
       " 'dateShortInterest': 1617148800,\n",
       " 'pegRatio': 1.94,\n",
       " 'lastCapGain': None,\n",
       " 'shortPercentOfFloat': 0.0101,\n",
       " 'sharesShortPriorMonth': 3075148,\n",
       " 'impliedSharesOutstanding': 676425984,\n",
       " 'category': None,\n",
       " 'fiveYearAverageReturn': None,\n",
       " 'regularMarketPrice': 2275.7,\n",
       " 'logo_url': 'https://logo.clearbit.com/abc.xyz'}"
      ]
     },
     "execution_count": 42,
     "metadata": {},
     "output_type": "execute_result"
    }
   ],
   "source": [
    "tick.info"
   ]
  },
  {
   "cell_type": "code",
   "execution_count": 44,
   "id": "1d532e4f",
   "metadata": {},
   "outputs": [
    {
     "data": {
      "text/plain": [
       "'Tuesday, 20 Apr 2021'"
      ]
     },
     "execution_count": 44,
     "metadata": {},
     "output_type": "execute_result"
    }
   ],
   "source": [
    "datetime.datetime.today().strftime(\"%A, %d %b %Y\")"
   ]
  },
  {
   "cell_type": "code",
   "execution_count": null,
   "id": "0523acab",
   "metadata": {},
   "outputs": [],
   "source": []
  }
 ],
 "metadata": {
  "kernelspec": {
   "display_name": "Python 3",
   "language": "python",
   "name": "python3"
  },
  "language_info": {
   "codemirror_mode": {
    "name": "ipython",
    "version": 3
   },
   "file_extension": ".py",
   "mimetype": "text/x-python",
   "name": "python",
   "nbconvert_exporter": "python",
   "pygments_lexer": "ipython3",
   "version": "3.7.9"
  }
 },
 "nbformat": 4,
 "nbformat_minor": 5
}
