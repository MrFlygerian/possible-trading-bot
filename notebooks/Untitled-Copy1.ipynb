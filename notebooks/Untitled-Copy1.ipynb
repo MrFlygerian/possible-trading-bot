{
 "cells": [
  {
   "cell_type": "code",
   "execution_count": 1,
   "id": "cb0e1dc0",
   "metadata": {},
   "outputs": [],
   "source": [
    "import yfinance as yf\n",
    "import sklearn\n",
    "import pandas as pd\n",
    "import datetime\n",
    "from finta import TA\n",
    "import time\n",
    "import numpy as np\n",
    "\n",
    "import sklearn\n",
    "from sklearn.model_selection import cross_val_score\n",
    "from sklearn.ensemble import RandomForestClassifier\n",
    "from sklearn.neighbors import KNeighborsClassifier\n",
    "from sklearn.model_selection import train_test_split\n",
    "from sklearn.metrics import confusion_matrix, classification_report, plot_confusion_matrix"
   ]
  },
  {
   "cell_type": "code",
   "execution_count": 2,
   "id": "c522cebf",
   "metadata": {},
   "outputs": [],
   "source": [
    "NUM_DAYS = 1000     # The number of days of historical data to retrieve\n",
    "INTERVAL = '1d'     # Sample rate of historical data"
   ]
  },
  {
   "cell_type": "code",
   "execution_count": 3,
   "id": "346cfc5b",
   "metadata": {},
   "outputs": [],
   "source": [
    "INDICATORS = ['RSI', 'MACD',\n",
    "              'STOCH', 'ADL',\n",
    "              'ATR', 'MOM',\n",
    "              'MFI', 'ROC',\n",
    "              'OBV', 'CCI',\n",
    "              'EMV', 'VORTEX']\n",
    "\n",
    "tickers = ('TSLA', 'GOOGL', 'GME', 'AMZN')"
   ]
  },
  {
   "cell_type": "code",
   "execution_count": 4,
   "id": "8abf8c9c",
   "metadata": {},
   "outputs": [],
   "source": [
    "def _get_historical_data(tickers, NUM_DAYS, INTERVAL):\n",
    "    \"\"\"\n",
    "    Function that uses the yfinance API to get stock data\n",
    "    :return:\n",
    "    \"\"\"\n",
    "\n",
    "    start = (datetime.date.today() - datetime.timedelta(NUM_DAYS))\n",
    "    end = datetime.datetime.today()\n",
    "\n",
    "#     data = yf.download(ticker, start=start, end=end, interval=INTERVAL)\n",
    "    data = yf.download(tickers, start=start, end=end, interval=INTERVAL, group_by='Ticker')\n",
    "    data = data.stack(level=0).rename_axis(['Date', 'Ticker']).reset_index(level=1)\n",
    "    data.rename(columns={\"Close\": 'close',\n",
    "                         \"Adj Close\": 'adj close',\n",
    "                         \"High\": 'high',\n",
    "                         \"Low\": 'low',\n",
    "                         'Volume': 'volume',\n",
    "                         'Open': 'open'},\n",
    "                inplace=True)\n",
    "    return data\n"
   ]
  },
  {
   "cell_type": "code",
   "execution_count": 5,
   "id": "79fc369c",
   "metadata": {},
   "outputs": [
    {
     "name": "stdout",
     "output_type": "stream",
     "text": [
      "[*********************100%***********************]  4 of 4 completed\n"
     ]
    },
    {
     "data": {
      "text/plain": [
       "Ticker\n",
       "AMZN     AxesSubplot(0.125,0.2;0.775x0.68)\n",
       "GME      AxesSubplot(0.125,0.2;0.775x0.68)\n",
       "GOOGL    AxesSubplot(0.125,0.2;0.775x0.68)\n",
       "TSLA     AxesSubplot(0.125,0.2;0.775x0.68)\n",
       "Name: adj close, dtype: object"
      ]
     },
     "execution_count": 5,
     "metadata": {},
     "output_type": "execute_result"
    },
    {
     "data": {
      "image/png": "[encoded data removed]",
      "text/plain": [
       "<Figure size 432x288 with 1 Axes>"
      ]
     },
     "metadata": {
      "needs_background": "light"
     },
     "output_type": "display_data"
    }
   ],
   "source": [
    "stock_df = _get_historical_data(tickers, NUM_DAYS = 1000, INTERVAL= '1d')\n",
    "stock_df.last('80D').groupby('Ticker')['adj close'].plot(legend=True)"
   ]
  },
  {
   "cell_type": "code",
   "execution_count": 6,
   "id": "9e04ec47",
   "metadata": {},
   "outputs": [],
   "source": [
    "def _exponential_smooth(data, alpha):\n",
    "    \"\"\"\n",
    "    Function that exponentially smooths dataset so values are less 'rigid'\n",
    "    :param alpha: weight factor to weight recent values more\n",
    "    \"\"\"\n",
    "    return data.ewm(alpha=alpha).mean()\n",
    "\n",
    "\n",
    "def _get_indicator_data(data):\n",
    "    \"\"\"\n",
    "    Function that uses the finta API to calculate technical indicators used as the features\n",
    "    :return:\n",
    "    \"\"\"\n",
    "\n",
    "    for indicator in INDICATORS:\n",
    "        ind_data = eval('TA.' + indicator + '(data)')\n",
    "        if not isinstance(ind_data, pd.DataFrame):\n",
    "            ind_data = ind_data.to_frame()\n",
    "        data = data.merge(ind_data, left_index=True, right_index=True)\n",
    "    data.rename(columns={\"14 period EMV.\": '14 period EMV'}, inplace=True)\n",
    "\n",
    "    # Also calculate moving averages for features\n",
    "    data['ema50'] = data['close'] / data['close'].ewm(50).mean()\n",
    "    data['ema21'] = data['close'] / data['close'].ewm(21).mean()\n",
    "    data['ema15'] = data['close'] / data['close'].ewm(14).mean()\n",
    "    data['ema5'] = data['close'] / data['close'].ewm(5).mean()\n",
    "\n",
    "    # Instead of using the actual volume value (which changes over time), we normalize it with a moving volume average\n",
    "    data['normVol'] = data['volume'] / data['volume'].ewm(5).mean()\n",
    "\n",
    "    # Remove columns that won't be used as features\n",
    "    del (data['open'])\n",
    "    del (data['high'])\n",
    "    del (data['low'])\n",
    "    del (data['volume'])\n",
    "    del (data['adj close'])\n",
    "\n",
    "    return data\n",
    "\n",
    "def clean_data(df, alpha=0.65):\n",
    "    \"\"\"\n",
    "    Combine all data manipulation functions\n",
    "\n",
    "    :param df: dataframe\n",
    "    :param alpha: exponent factor\n",
    "    :param window: look ahead time in days\n",
    "    :return:\n",
    "    Dataframe with features and prediction target\n",
    "    \"\"\"\n",
    "    df = _exponential_smooth(df, alpha=alpha)\n",
    "    df = _get_indicator_data(df)\n",
    "#     df.dropna(inplace=True)\n",
    "\n",
    "    return df\n",
    "\n",
    "def _produce_prediction(data, window=7):\n",
    "    \"\"\"\n",
    "    Function that produces the 'truth' values\n",
    "    At a given row, it looks 'window' rows ahead to see if the price increased (1) or decreased (0)\n",
    "    :param window: number of days, or rows to look ahead to see what the price did\n",
    "    \"\"\"\n",
    "\n",
    "    prediction = (data.close.shift(-window) >= data.close)\n",
    "    prediction = prediction.iloc[:-window]\n",
    "    data['pred'] = prediction.astype(int)\n",
    "    data.dropna(inplace=True)\n",
    "\n",
    "    return data"
   ]
  },
  {
   "cell_type": "code",
   "execution_count": 7,
   "id": "d28e281d",
   "metadata": {},
   "outputs": [],
   "source": [
    "df_list = []\n",
    "for ticker in tickers:\n",
    "    df_list.append(\n",
    "        _produce_prediction(\n",
    "            (clean_data(stock_df.loc[stock_df.Ticker == ticker]))\n",
    "        )\n",
    "    )\n",
    "    \n",
    "ml_df = pd.concat(df_list).sort_index(kind='merge')"
   ]
  },
  {
   "cell_type": "code",
   "execution_count": 8,
   "id": "6bf821ad",
   "metadata": {},
   "outputs": [
    {
     "name": "stdout",
     "output_type": "stream",
     "text": [
      "                  close  14 period RSI       MACD     SIGNAL  \\\n",
      "Date                                                           \n",
      "2021-04-06  3213.407438      63.279041   2.882352 -16.773289   \n",
      "2021-04-07   676.759510      50.208723 -11.842769 -19.902359   \n",
      "2021-04-07  2224.868650      78.719850  36.775096  19.509314   \n",
      "2021-04-07   180.721553      52.887617  11.556881  16.842734   \n",
      "2021-04-07  3256.296034      67.200276  13.529100 -10.712811   \n",
      "\n",
      "            14 period STOCH %K           MFV  14 period ATR         MOM  \\\n",
      "Date                                                                      \n",
      "2021-04-06           91.420954  1.001037e+08      65.864156  116.937055   \n",
      "2021-04-07           79.157486  2.943210e+09      32.780757   13.137114   \n",
      "2021-04-07           96.033554  5.880667e+07      44.043100  187.088888   \n",
      "2021-04-07           54.994797 -4.314619e+08      30.473012   -6.420008   \n",
      "2021-04-07           91.518485  1.011612e+08      64.548470  133.156400   \n",
      "\n",
      "            14 period MFI        ROC  ...  20 period CCI  14 period EMV  \\\n",
      "Date                                  ...                                 \n",
      "2021-04-06      55.458837   5.012918  ...     252.525780     150.773707   \n",
      "2021-04-07      44.658044   2.611136  ...      56.336456      -0.551100   \n",
      "2021-04-07      64.953180   9.485705  ...     249.466229     246.615523   \n",
      "2021-04-07      52.683711 -10.579363  ...     -57.393885      -5.722768   \n",
      "2021-04-07      55.804539   6.077672  ...     245.840100     159.389676   \n",
      "\n",
      "                 VIm       VIp     ema50     ema21     ema15      ema5  \\\n",
      "Date                                                                     \n",
      "2021-04-06  0.857797  1.120985  1.022853  1.025577  1.029951  1.029043   \n",
      "2021-04-07  0.995447  0.997425  1.032846  0.982930  0.997945  1.020621   \n",
      "2021-04-07  0.741085  1.193025  1.160914  1.091248  1.075247  1.051064   \n",
      "2021-04-07  1.098206  0.934937  1.726989  1.176746  1.061186  0.973958   \n",
      "2021-04-07  0.844617  1.142879  1.035763  1.037413  1.040666  1.035395   \n",
      "\n",
      "             normVol  pred  \n",
      "Date                        \n",
      "2021-04-06  0.901365   1.0  \n",
      "2021-04-07  0.819844   1.0  \n",
      "2021-04-07  0.847751   1.0  \n",
      "2021-04-07  0.376425   0.0  \n",
      "2021-04-07  1.019937   1.0  \n",
      "\n",
      "[5 rows x 21 columns]\n",
      "(2672, 21)\n"
     ]
    }
   ],
   "source": [
    "print(ml_df.tail())\n",
    "print(ml_df.shape)"
   ]
  },
  {
   "cell_type": "code",
   "execution_count": 9,
   "id": "9ecea43a",
   "metadata": {},
   "outputs": [],
   "source": [
    "X = ml_df.drop('pred', axis = 1)\n",
    "y = ml_df.pred"
   ]
  },
  {
   "cell_type": "code",
   "execution_count": 16,
   "id": "2d4128cd",
   "metadata": {},
   "outputs": [
    {
     "data": {
      "text/plain": [
       "RandomForestClassifier(n_estimators=90)"
      ]
     },
     "execution_count": 16,
     "metadata": {},
     "output_type": "execute_result"
    }
   ],
   "source": [
    "clf = RandomForestClassifier(n_estimators=90)\n",
    "clf.fit(X,y)"
   ]
  },
  {
   "cell_type": "code",
   "execution_count": 17,
   "id": "f6da869d",
   "metadata": {},
   "outputs": [
    {
     "name": "stdout",
     "output_type": "stream",
     "text": [
      "0.4375\n"
     ]
    }
   ],
   "source": [
    "print(np.mean(cross_val_score(clf, X, y, cv=8)))"
   ]
  },
  {
   "cell_type": "markdown",
   "id": "4f897c43",
   "metadata": {},
   "source": [
    "# Generate prediction"
   ]
  },
  {
   "cell_type": "code",
   "execution_count": 18,
   "id": "d8368f3b",
   "metadata": {},
   "outputs": [
    {
     "data": {
      "text/plain": [
       "<AxesSubplot:xlabel='Date'>"
      ]
     },
     "execution_count": 18,
     "metadata": {},
     "output_type": "execute_result"
    },
    {
     "data": {
      "image/png": "[encoded data removed]",
      "text/plain": [
       "<Figure size 432x288 with 1 Axes>"
      ]
     },
     "metadata": {
      "needs_background": "light"
     },
     "output_type": "display_data"
    }
   ],
   "source": [
    "goog_df = stock_df.loc[stock_df.Ticker == 'GME']\n",
    "goog_df[['adj close']][-60:].plot()"
   ]
  },
  {
   "cell_type": "code",
   "execution_count": 19,
   "id": "14d57a12",
   "metadata": {},
   "outputs": [],
   "source": [
    "goog_ml_df = _produce_prediction(\n",
    "    (clean_data(goog_df))\n",
    ")\n",
    "\n",
    "X_goog = goog_ml_df.iloc[:, :-1]\n",
    "y_goog = goog_ml_df.pred"
   ]
  },
  {
   "cell_type": "code",
   "execution_count": 20,
   "id": "a69271c3",
   "metadata": {},
   "outputs": [
    {
     "name": "stdout",
     "output_type": "stream",
     "text": [
      "Stock going up, buy\n"
     ]
    }
   ],
   "source": [
    "buy_sell = {1: 'Stock going up, buy',\n",
    "            0: 'Stock going down, sell'}\n",
    "\n",
    "\"This is the prediction for next 7 days:\"\n",
    "pred_df = (clean_data(goog_df))\n",
    "\n",
    "print(buy_sell[clf.predict(pred_df[-1:])[0]])"
   ]
  },
  {
   "cell_type": "code",
   "execution_count": 21,
   "id": "8a027a0a",
   "metadata": {},
   "outputs": [
    {
     "data": {
      "text/plain": [
       "0.6333333333333333"
      ]
     },
     "execution_count": 21,
     "metadata": {},
     "output_type": "execute_result"
    }
   ],
   "source": [
    "clf.predict_proba(pred_df[-1:])[0][1]"
   ]
  },
  {
   "cell_type": "code",
   "execution_count": 22,
   "id": "11c4d88a",
   "metadata": {},
   "outputs": [
    {
     "name": "stdout",
     "output_type": "stream",
     "text": [
      "0.4682300631095812\n"
     ]
    }
   ],
   "source": [
    "print(np.mean(cross_val_score(clf, X_goog, y_goog, cv=8)))"
   ]
  },
  {
   "cell_type": "code",
   "execution_count": 24,
   "id": "807b8cb7",
   "metadata": {},
   "outputs": [
    {
     "data": {
      "text/plain": [
       "'gini'"
      ]
     },
     "execution_count": 24,
     "metadata": {},
     "output_type": "execute_result"
    }
   ],
   "source": [
    "clf."
   ]
  },
  {
   "cell_type": "code",
   "execution_count": null,
   "id": "69143b25",
   "metadata": {},
   "outputs": [],
   "source": [
    "# from sklearn import tree\n",
    "# import matplotlib.pyplot as plt\n",
    "\n",
    "# fig, axes = plt.subplots(nrows = 1,ncols = 1,figsize = (20,20), dpi=800)\n",
    "# tree.plot_tree(clf.estimators_[0],\n",
    "#                feature_names = X.columns, \n",
    "#                class_names=y.name,\n",
    "#                filled = True)"
   ]
  },
  {
   "cell_type": "code",
   "execution_count": null,
   "id": "c27b95e4",
   "metadata": {},
   "outputs": [],
   "source": [
    "# fig, axes = plt.subplots(nrows = 1,ncols = 5,figsize = (50,10), dpi=900)\n",
    "# for index in range(0, 5):\n",
    "#     tree.plot_tree(clf.estimators_[index],\n",
    "#                    feature_names = X.columns, \n",
    "#                    class_names=y.name,\n",
    "#                    filled = True,\n",
    "#                    ax = axes[index]);\n",
    "\n",
    "#     axes[index].set_title('Estimator: ' + str(index), fontsize = 11)"
   ]
  },
  {
   "cell_type": "code",
   "execution_count": null,
   "id": "25dddb00",
   "metadata": {},
   "outputs": [],
   "source": [
    "len(clf.estimators_)"
   ]
  },
  {
   "cell_type": "code",
   "execution_count": null,
   "id": "719e5156",
   "metadata": {},
   "outputs": [],
   "source": []
  },
  {
   "cell_type": "code",
   "execution_count": null,
   "id": "d610b105",
   "metadata": {},
   "outputs": [],
   "source": []
  },
  {
   "cell_type": "code",
   "execution_count": null,
   "id": "1d085673",
   "metadata": {},
   "outputs": [],
   "source": []
  },
  {
   "cell_type": "code",
   "execution_count": null,
   "id": "767a75c2",
   "metadata": {},
   "outputs": [],
   "source": []
  },
  {
   "cell_type": "code",
   "execution_count": null,
   "id": "a1452fbb",
   "metadata": {},
   "outputs": [],
   "source": [
    "def _get_historical_data_mt(tickers, NUM_DAYS, INTERVAL):\n",
    "    \"\"\"\n",
    "    Function that uses the yfinance API to get stock data\n",
    "    :return:\n",
    "    \"\"\"\n",
    "\n",
    "    start = (datetime.date.today() - datetime.timedelta(NUM_DAYS))\n",
    "    end = datetime.datetime.today()\n",
    "\n",
    "    data = yf.download(tickers, start=start, end=end, interval=INTERVAL, group_by='Ticker')\n",
    "    data = data.stack(level=0).rename_axis(['Date', 'Ticker']).reset_index(level=1)\n",
    "    data.rename(columns={\"Ticker\":\"ticker\",\n",
    "                         \"Close\": 'close',\n",
    "                         \"Adj Close\": 'adj close',\n",
    "                         \"High\": 'high',\n",
    "                         \"Low\": 'low',\n",
    "                         'Volume': 'volume',\n",
    "                         'Open': 'open'},\n",
    "                inplace=True)\n",
    "    return data\n",
    "\n",
    "def _produce_prediction_mt(data, window=7):\n",
    "    \"\"\"\n",
    "    Function that produces the 'truth' values\n",
    "    At a given row, it looks 'window' rows ahead to see if the price increased (1) or decreased (0)\n",
    "    :param window: number of days, or rows to look ahead to see what the price did\n",
    "    \"\"\"\n",
    "    \n",
    "    data['pred'] = (data.groupby('ticker').close.shift(-window) >= data.close)\n",
    "    for t in data.ticker.unique():\n",
    "      data.loc[data.ticker == t, 'pred'] = data.loc[df.ticker == t, 'pred'].iloc[:-window]\n",
    "    data.dropna(inplace=True)\n",
    "    data['pred'] = data['pred'].astype(int)\n",
    "\n",
    "    return data"
   ]
  },
  {
   "cell_type": "code",
   "execution_count": 15,
   "id": "69c0b692",
   "metadata": {},
   "outputs": [
    {
     "data": {
      "text/html": [
       "<div>\n",
       "<style scoped>\n",
       "    .dataframe tbody tr th:only-of-type {\n",
       "        vertical-align: middle;\n",
       "    }\n",
       "\n",
       "    .dataframe tbody tr th {\n",
       "        vertical-align: top;\n",
       "    }\n",
       "\n",
       "    .dataframe thead th {\n",
       "        text-align: right;\n",
       "    }\n",
       "</style>\n",
       "<table border=\"1\" class=\"dataframe\">\n",
       "  <thead>\n",
       "    <tr style=\"text-align: right;\">\n",
       "      <th></th>\n",
       "      <th>Date</th>\n",
       "      <th>Ticker</th>\n",
       "      <th>adj close</th>\n",
       "      <th>close</th>\n",
       "      <th>high</th>\n",
       "      <th>low</th>\n",
       "      <th>open</th>\n",
       "      <th>volume</th>\n",
       "    </tr>\n",
       "  </thead>\n",
       "  <tbody>\n",
       "    <tr>\n",
       "      <th>0</th>\n",
       "      <td>2018-07-23</td>\n",
       "      <td>AMZN</td>\n",
       "      <td>1802.000000</td>\n",
       "      <td>1802.000000</td>\n",
       "      <td>1819.000000</td>\n",
       "      <td>1769.989990</td>\n",
       "      <td>1812.209961</td>\n",
       "      <td>3888500</td>\n",
       "    </tr>\n",
       "    <tr>\n",
       "      <th>1</th>\n",
       "      <td>2018-07-23</td>\n",
       "      <td>GME</td>\n",
       "      <td>13.684457</td>\n",
       "      <td>14.890000</td>\n",
       "      <td>15.090000</td>\n",
       "      <td>14.780000</td>\n",
       "      <td>15.050000</td>\n",
       "      <td>1833800</td>\n",
       "    </tr>\n",
       "    <tr>\n",
       "      <th>2</th>\n",
       "      <td>2018-07-23</td>\n",
       "      <td>GOOGL</td>\n",
       "      <td>1211.000000</td>\n",
       "      <td>1211.000000</td>\n",
       "      <td>1215.099976</td>\n",
       "      <td>1192.010010</td>\n",
       "      <td>1195.660034</td>\n",
       "      <td>3272300</td>\n",
       "    </tr>\n",
       "    <tr>\n",
       "      <th>3</th>\n",
       "      <td>2018-07-23</td>\n",
       "      <td>TSLA</td>\n",
       "      <td>60.639999</td>\n",
       "      <td>60.639999</td>\n",
       "      <td>61.099998</td>\n",
       "      <td>58.571999</td>\n",
       "      <td>60.368000</td>\n",
       "      <td>54964500</td>\n",
       "    </tr>\n",
       "    <tr>\n",
       "      <th>4</th>\n",
       "      <td>2018-07-24</td>\n",
       "      <td>AMZN</td>\n",
       "      <td>1829.239990</td>\n",
       "      <td>1829.239990</td>\n",
       "      <td>1840.000000</td>\n",
       "      <td>1809.380005</td>\n",
       "      <td>1829.010010</td>\n",
       "      <td>4278700</td>\n",
       "    </tr>\n",
       "    <tr>\n",
       "      <th>...</th>\n",
       "      <td>...</td>\n",
       "      <td>...</td>\n",
       "      <td>...</td>\n",
       "      <td>...</td>\n",
       "      <td>...</td>\n",
       "      <td>...</td>\n",
       "      <td>...</td>\n",
       "      <td>...</td>\n",
       "    </tr>\n",
       "    <tr>\n",
       "      <th>2751</th>\n",
       "      <td>2021-04-15</td>\n",
       "      <td>TSLA</td>\n",
       "      <td>738.849976</td>\n",
       "      <td>738.849976</td>\n",
       "      <td>743.690002</td>\n",
       "      <td>721.309998</td>\n",
       "      <td>743.099976</td>\n",
       "      <td>27848900</td>\n",
       "    </tr>\n",
       "    <tr>\n",
       "      <th>2752</th>\n",
       "      <td>2021-04-16</td>\n",
       "      <td>AMZN</td>\n",
       "      <td>3399.439941</td>\n",
       "      <td>3399.439941</td>\n",
       "      <td>3406.800049</td>\n",
       "      <td>3355.590088</td>\n",
       "      <td>3380.000000</td>\n",
       "      <td>3183300</td>\n",
       "    </tr>\n",
       "    <tr>\n",
       "      <th>2753</th>\n",
       "      <td>2021-04-16</td>\n",
       "      <td>GME</td>\n",
       "      <td>154.690002</td>\n",
       "      <td>154.690002</td>\n",
       "      <td>160.199997</td>\n",
       "      <td>151.250000</td>\n",
       "      <td>156.000000</td>\n",
       "      <td>5139700</td>\n",
       "    </tr>\n",
       "    <tr>\n",
       "      <th>2754</th>\n",
       "      <td>2021-04-16</td>\n",
       "      <td>GOOGL</td>\n",
       "      <td>2282.750000</td>\n",
       "      <td>2282.750000</td>\n",
       "      <td>2294.239990</td>\n",
       "      <td>2270.919922</td>\n",
       "      <td>2289.239990</td>\n",
       "      <td>1313600</td>\n",
       "    </tr>\n",
       "    <tr>\n",
       "      <th>2755</th>\n",
       "      <td>2021-04-16</td>\n",
       "      <td>TSLA</td>\n",
       "      <td>739.780029</td>\n",
       "      <td>739.780029</td>\n",
       "      <td>749.409973</td>\n",
       "      <td>724.599976</td>\n",
       "      <td>728.650024</td>\n",
       "      <td>27924000</td>\n",
       "    </tr>\n",
       "  </tbody>\n",
       "</table>\n",
       "<p>2756 rows × 8 columns</p>\n",
       "</div>"
      ],
      "text/plain": [
       "           Date Ticker    adj close        close         high          low  \\\n",
       "0    2018-07-23   AMZN  1802.000000  1802.000000  1819.000000  1769.989990   \n",
       "1    2018-07-23    GME    13.684457    14.890000    15.090000    14.780000   \n",
       "2    2018-07-23  GOOGL  1211.000000  1211.000000  1215.099976  1192.010010   \n",
       "3    2018-07-23   TSLA    60.639999    60.639999    61.099998    58.571999   \n",
       "4    2018-07-24   AMZN  1829.239990  1829.239990  1840.000000  1809.380005   \n",
       "...         ...    ...          ...          ...          ...          ...   \n",
       "2751 2021-04-15   TSLA   738.849976   738.849976   743.690002   721.309998   \n",
       "2752 2021-04-16   AMZN  3399.439941  3399.439941  3406.800049  3355.590088   \n",
       "2753 2021-04-16    GME   154.690002   154.690002   160.199997   151.250000   \n",
       "2754 2021-04-16  GOOGL  2282.750000  2282.750000  2294.239990  2270.919922   \n",
       "2755 2021-04-16   TSLA   739.780029   739.780029   749.409973   724.599976   \n",
       "\n",
       "             open    volume  \n",
       "0     1812.209961   3888500  \n",
       "1       15.050000   1833800  \n",
       "2     1195.660034   3272300  \n",
       "3       60.368000  54964500  \n",
       "4     1829.010010   4278700  \n",
       "...           ...       ...  \n",
       "2751   743.099976  27848900  \n",
       "2752  3380.000000   3183300  \n",
       "2753   156.000000   5139700  \n",
       "2754  2289.239990   1313600  \n",
       "2755   728.650024  27924000  \n",
       "\n",
       "[2756 rows x 8 columns]"
      ]
     },
     "execution_count": 15,
     "metadata": {},
     "output_type": "execute_result"
    }
   ],
   "source": []
  },
  {
   "cell_type": "code",
   "execution_count": 25,
   "id": "6e3b7afb",
   "metadata": {},
   "outputs": [],
   "source": [
    "import altair as alt"
   ]
  },
  {
   "cell_type": "code",
   "execution_count": null,
   "id": "0a037f37",
   "metadata": {},
   "outputs": [],
   "source": [
    "# Create a selection that chooses the nearest point & selects based on x-value\n",
    "nearest = alt.selection(type='single', nearest=True, on='mouseover',\n",
    "                        fields=['date'], empty='none')\n",
    "\n",
    "# The basic line\n",
    "line = alt.Chart().mark_line(interpolate='basis').encode(\n",
    "    alt.X('Date:T', axis=alt.Axis(title='')),\n",
    "    alt.Y('close:Q', axis=alt.Axis(title='',format='$f')),\n",
    "    color='symbol:N'\n",
    ")\n",
    "\n",
    "# Transparent selectors across the chart. This is what tells us\n",
    "# the x-value of the cursor\n",
    "selectors = alt.Chart().mark_point().encode(\n",
    "    x='Date:T',\n",
    "    opacity=alt.value(0),\n",
    ").add_selection(\n",
    "    nearest\n",
    ")\n",
    "\n",
    "# Draw points on the line, and highlight based on selection\n",
    "points = line.mark_point().encode(\n",
    "    opacity=alt.condition(nearest, alt.value(1), alt.value(0))\n",
    ")\n",
    "\n",
    "# Draw text labels near the points, and highlight based on selection\n",
    "text = line.mark_text(align='left', dx=5, dy=-5).encode(\n",
    "    text=alt.condition(nearest, 'price:Q', alt.value(' '))\n",
    ")\n",
    "\n",
    "# Draw a rule at the location of the selection\n",
    "rules = alt.Chart().mark_rule(color='gray').encode(\n",
    "    x='date:T',\n",
    ").transform_filter(\n",
    "    nearest\n",
    ")\n",
    "\n",
    "# Put the five layers into a chart and bind the data\n",
    "stockChart = alt.layer(line, selectors, points, rules, text,\n",
    "                       data='https://raw.githubusercontent.com/altair-viz/vega_datasets/master/vega_datasets/_data/stocks.csv', \n",
    "                       width=600, height=300,title='Stock History')"
   ]
  },
  {
   "cell_type": "code",
   "execution_count": null,
   "id": "0b10ab54",
   "metadata": {},
   "outputs": [],
   "source": []
  },
  {
   "cell_type": "code",
   "execution_count": null,
   "id": "144f84ea",
   "metadata": {},
   "outputs": [],
   "source": []
  },
  {
   "cell_type": "code",
   "execution_count": null,
   "id": "5e073fc7",
   "metadata": {},
   "outputs": [],
   "source": []
  },
  {
   "cell_type": "code",
   "execution_count": null,
   "id": "44967e31",
   "metadata": {},
   "outputs": [],
   "source": []
  },
  {
   "cell_type": "code",
   "execution_count": null,
   "id": "0e69d378",
   "metadata": {},
   "outputs": [],
   "source": []
  },
  {
   "cell_type": "code",
   "execution_count": null,
   "id": "1d532e4f",
   "metadata": {},
   "outputs": [],
   "source": []
  },
  {
   "cell_type": "code",
   "execution_count": null,
   "id": "0523acab",
   "metadata": {},
   "outputs": [],
   "source": []
  }
 ],
 "metadata": {
  "kernelspec": {
   "display_name": "Python 3",
   "language": "python",
   "name": "python3"
  },
  "language_info": {
   "codemirror_mode": {
    "name": "ipython",
    "version": 3
   },
   "file_extension": ".py",
   "mimetype": "text/x-python",
   "name": "python",
   "nbconvert_exporter": "python",
   "pygments_lexer": "ipython3",
   "version": "3.7.9"
  }
 },
 "nbformat": 4,
 "nbformat_minor": 5
}
