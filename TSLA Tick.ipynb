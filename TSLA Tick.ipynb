{
 "cells": [
  {
   "cell_type": "code",
   "execution_count": 1,
   "id": "19730f65",
   "metadata": {},
   "outputs": [],
   "source": [
    "import yfinance as yf\n",
    "import matplotlib.pyplot as plt\n",
    "import numpy as np"
   ]
  },
  {
   "cell_type": "code",
   "execution_count": 2,
   "id": "ac669691",
   "metadata": {},
   "outputs": [],
   "source": [
    "tsla = yf.Ticker(\"TSLA\")"
   ]
  },
  {
   "cell_type": "code",
   "execution_count": 3,
   "id": "cc00d78c",
   "metadata": {},
   "outputs": [
    {
     "data": {
      "text/html": [
       "<div>\n",
       "<style scoped>\n",
       "    .dataframe tbody tr th:only-of-type {\n",
       "        vertical-align: middle;\n",
       "    }\n",
       "\n",
       "    .dataframe tbody tr th {\n",
       "        vertical-align: top;\n",
       "    }\n",
       "\n",
       "    .dataframe thead th {\n",
       "        text-align: right;\n",
       "    }\n",
       "</style>\n",
       "<table border=\"1\" class=\"dataframe\">\n",
       "  <thead>\n",
       "    <tr style=\"text-align: right;\">\n",
       "      <th></th>\n",
       "      <th>Value</th>\n",
       "    </tr>\n",
       "    <tr>\n",
       "      <th>2021-3</th>\n",
       "      <th></th>\n",
       "    </tr>\n",
       "  </thead>\n",
       "  <tbody>\n",
       "    <tr>\n",
       "      <th>palmOil</th>\n",
       "      <td>False</td>\n",
       "    </tr>\n",
       "    <tr>\n",
       "      <th>controversialWeapons</th>\n",
       "      <td>False</td>\n",
       "    </tr>\n",
       "    <tr>\n",
       "      <th>gambling</th>\n",
       "      <td>False</td>\n",
       "    </tr>\n",
       "    <tr>\n",
       "      <th>socialScore</th>\n",
       "      <td>17.31</td>\n",
       "    </tr>\n",
       "    <tr>\n",
       "      <th>nuclear</th>\n",
       "      <td>False</td>\n",
       "    </tr>\n",
       "    <tr>\n",
       "      <th>furLeather</th>\n",
       "      <td>False</td>\n",
       "    </tr>\n",
       "    <tr>\n",
       "      <th>alcoholic</th>\n",
       "      <td>False</td>\n",
       "    </tr>\n",
       "    <tr>\n",
       "      <th>gmo</th>\n",
       "      <td>False</td>\n",
       "    </tr>\n",
       "    <tr>\n",
       "      <th>catholic</th>\n",
       "      <td>False</td>\n",
       "    </tr>\n",
       "    <tr>\n",
       "      <th>socialPercentile</th>\n",
       "      <td>None</td>\n",
       "    </tr>\n",
       "    <tr>\n",
       "      <th>peerCount</th>\n",
       "      <td>38</td>\n",
       "    </tr>\n",
       "    <tr>\n",
       "      <th>governanceScore</th>\n",
       "      <td>11.03</td>\n",
       "    </tr>\n",
       "    <tr>\n",
       "      <th>environmentPercentile</th>\n",
       "      <td>None</td>\n",
       "    </tr>\n",
       "    <tr>\n",
       "      <th>animalTesting</th>\n",
       "      <td>False</td>\n",
       "    </tr>\n",
       "    <tr>\n",
       "      <th>tobacco</th>\n",
       "      <td>False</td>\n",
       "    </tr>\n",
       "    <tr>\n",
       "      <th>totalEsg</th>\n",
       "      <td>31.29</td>\n",
       "    </tr>\n",
       "    <tr>\n",
       "      <th>highestControversy</th>\n",
       "      <td>3</td>\n",
       "    </tr>\n",
       "    <tr>\n",
       "      <th>esgPerformance</th>\n",
       "      <td>OUT_PERF</td>\n",
       "    </tr>\n",
       "    <tr>\n",
       "      <th>coal</th>\n",
       "      <td>False</td>\n",
       "    </tr>\n",
       "    <tr>\n",
       "      <th>pesticides</th>\n",
       "      <td>False</td>\n",
       "    </tr>\n",
       "    <tr>\n",
       "      <th>adult</th>\n",
       "      <td>False</td>\n",
       "    </tr>\n",
       "    <tr>\n",
       "      <th>percentile</th>\n",
       "      <td>61.89</td>\n",
       "    </tr>\n",
       "    <tr>\n",
       "      <th>peerGroup</th>\n",
       "      <td>Automobiles</td>\n",
       "    </tr>\n",
       "    <tr>\n",
       "      <th>smallArms</th>\n",
       "      <td>False</td>\n",
       "    </tr>\n",
       "    <tr>\n",
       "      <th>environmentScore</th>\n",
       "      <td>2.95</td>\n",
       "    </tr>\n",
       "    <tr>\n",
       "      <th>governancePercentile</th>\n",
       "      <td>None</td>\n",
       "    </tr>\n",
       "    <tr>\n",
       "      <th>militaryContract</th>\n",
       "      <td>False</td>\n",
       "    </tr>\n",
       "  </tbody>\n",
       "</table>\n",
       "</div>"
      ],
      "text/plain": [
       "                             Value\n",
       "2021-3                            \n",
       "palmOil                      False\n",
       "controversialWeapons         False\n",
       "gambling                     False\n",
       "socialScore                  17.31\n",
       "nuclear                      False\n",
       "furLeather                   False\n",
       "alcoholic                    False\n",
       "gmo                          False\n",
       "catholic                     False\n",
       "socialPercentile              None\n",
       "peerCount                       38\n",
       "governanceScore              11.03\n",
       "environmentPercentile         None\n",
       "animalTesting                False\n",
       "tobacco                      False\n",
       "totalEsg                     31.29\n",
       "highestControversy               3\n",
       "esgPerformance            OUT_PERF\n",
       "coal                         False\n",
       "pesticides                   False\n",
       "adult                        False\n",
       "percentile                   61.89\n",
       "peerGroup              Automobiles\n",
       "smallArms                    False\n",
       "environmentScore              2.95\n",
       "governancePercentile          None\n",
       "militaryContract             False"
      ]
     },
     "execution_count": 3,
     "metadata": {},
     "output_type": "execute_result"
    }
   ],
   "source": [
    "tsla.sustainability"
   ]
  },
  {
   "cell_type": "code",
   "execution_count": 4,
   "id": "3e13fec7",
   "metadata": {},
   "outputs": [
    {
     "data": {
      "text/plain": [
       "(572, 7)"
      ]
     },
     "execution_count": 4,
     "metadata": {},
     "output_type": "execute_result"
    }
   ],
   "source": [
    "stock_df = tsla.history(period='1y', start='2019-01-01', end=None)\n",
    "stock_df.shape"
   ]
  },
  {
   "cell_type": "code",
   "execution_count": 5,
   "id": "7540730d",
   "metadata": {},
   "outputs": [
    {
     "data": {
      "text/html": [
       "<div>\n",
       "<style scoped>\n",
       "    .dataframe tbody tr th:only-of-type {\n",
       "        vertical-align: middle;\n",
       "    }\n",
       "\n",
       "    .dataframe tbody tr th {\n",
       "        vertical-align: top;\n",
       "    }\n",
       "\n",
       "    .dataframe thead th {\n",
       "        text-align: right;\n",
       "    }\n",
       "</style>\n",
       "<table border=\"1\" class=\"dataframe\">\n",
       "  <thead>\n",
       "    <tr style=\"text-align: right;\">\n",
       "      <th></th>\n",
       "      <th>Open</th>\n",
       "      <th>High</th>\n",
       "      <th>Low</th>\n",
       "      <th>Close</th>\n",
       "      <th>Volume</th>\n",
       "      <th>Dividends</th>\n",
       "      <th>Stock Splits</th>\n",
       "    </tr>\n",
       "    <tr>\n",
       "      <th>Date</th>\n",
       "      <th></th>\n",
       "      <th></th>\n",
       "      <th></th>\n",
       "      <th></th>\n",
       "      <th></th>\n",
       "      <th></th>\n",
       "      <th></th>\n",
       "    </tr>\n",
       "  </thead>\n",
       "  <tbody>\n",
       "    <tr>\n",
       "      <th>2019-01-02</th>\n",
       "      <td>61.220001</td>\n",
       "      <td>63.026001</td>\n",
       "      <td>59.759998</td>\n",
       "      <td>62.023998</td>\n",
       "      <td>58293000</td>\n",
       "      <td>0</td>\n",
       "      <td>0.0</td>\n",
       "    </tr>\n",
       "    <tr>\n",
       "      <th>2019-01-03</th>\n",
       "      <td>61.400002</td>\n",
       "      <td>61.880001</td>\n",
       "      <td>59.476002</td>\n",
       "      <td>60.071999</td>\n",
       "      <td>34826000</td>\n",
       "      <td>0</td>\n",
       "      <td>0.0</td>\n",
       "    </tr>\n",
       "    <tr>\n",
       "      <th>2019-01-04</th>\n",
       "      <td>61.200001</td>\n",
       "      <td>63.599998</td>\n",
       "      <td>60.546001</td>\n",
       "      <td>63.537998</td>\n",
       "      <td>36970500</td>\n",
       "      <td>0</td>\n",
       "      <td>0.0</td>\n",
       "    </tr>\n",
       "    <tr>\n",
       "      <th>2019-01-07</th>\n",
       "      <td>64.344002</td>\n",
       "      <td>67.348000</td>\n",
       "      <td>63.549999</td>\n",
       "      <td>66.991997</td>\n",
       "      <td>37756000</td>\n",
       "      <td>0</td>\n",
       "      <td>0.0</td>\n",
       "    </tr>\n",
       "    <tr>\n",
       "      <th>2019-01-08</th>\n",
       "      <td>68.391998</td>\n",
       "      <td>68.802002</td>\n",
       "      <td>65.403999</td>\n",
       "      <td>67.070000</td>\n",
       "      <td>35042500</td>\n",
       "      <td>0</td>\n",
       "      <td>0.0</td>\n",
       "    </tr>\n",
       "    <tr>\n",
       "      <th>...</th>\n",
       "      <td>...</td>\n",
       "      <td>...</td>\n",
       "      <td>...</td>\n",
       "      <td>...</td>\n",
       "      <td>...</td>\n",
       "      <td>...</td>\n",
       "      <td>...</td>\n",
       "    </tr>\n",
       "    <tr>\n",
       "      <th>2021-04-05</th>\n",
       "      <td>707.710022</td>\n",
       "      <td>708.159973</td>\n",
       "      <td>684.700012</td>\n",
       "      <td>691.049988</td>\n",
       "      <td>41842800</td>\n",
       "      <td>0</td>\n",
       "      <td>0.0</td>\n",
       "    </tr>\n",
       "    <tr>\n",
       "      <th>2021-04-06</th>\n",
       "      <td>690.299988</td>\n",
       "      <td>696.549988</td>\n",
       "      <td>681.369995</td>\n",
       "      <td>691.619995</td>\n",
       "      <td>28271800</td>\n",
       "      <td>0</td>\n",
       "      <td>0.0</td>\n",
       "    </tr>\n",
       "    <tr>\n",
       "      <th>2021-04-07</th>\n",
       "      <td>687.000000</td>\n",
       "      <td>691.380005</td>\n",
       "      <td>667.840027</td>\n",
       "      <td>670.969971</td>\n",
       "      <td>26309400</td>\n",
       "      <td>0</td>\n",
       "      <td>0.0</td>\n",
       "    </tr>\n",
       "    <tr>\n",
       "      <th>2021-04-08</th>\n",
       "      <td>677.380005</td>\n",
       "      <td>689.549988</td>\n",
       "      <td>671.650024</td>\n",
       "      <td>683.799988</td>\n",
       "      <td>23924300</td>\n",
       "      <td>0</td>\n",
       "      <td>0.0</td>\n",
       "    </tr>\n",
       "    <tr>\n",
       "      <th>2021-04-09</th>\n",
       "      <td>677.770020</td>\n",
       "      <td>680.969971</td>\n",
       "      <td>669.429993</td>\n",
       "      <td>677.020020</td>\n",
       "      <td>21402600</td>\n",
       "      <td>0</td>\n",
       "      <td>0.0</td>\n",
       "    </tr>\n",
       "  </tbody>\n",
       "</table>\n",
       "<p>572 rows × 7 columns</p>\n",
       "</div>"
      ],
      "text/plain": [
       "                  Open        High         Low       Close    Volume  \\\n",
       "Date                                                                   \n",
       "2019-01-02   61.220001   63.026001   59.759998   62.023998  58293000   \n",
       "2019-01-03   61.400002   61.880001   59.476002   60.071999  34826000   \n",
       "2019-01-04   61.200001   63.599998   60.546001   63.537998  36970500   \n",
       "2019-01-07   64.344002   67.348000   63.549999   66.991997  37756000   \n",
       "2019-01-08   68.391998   68.802002   65.403999   67.070000  35042500   \n",
       "...                ...         ...         ...         ...       ...   \n",
       "2021-04-05  707.710022  708.159973  684.700012  691.049988  41842800   \n",
       "2021-04-06  690.299988  696.549988  681.369995  691.619995  28271800   \n",
       "2021-04-07  687.000000  691.380005  667.840027  670.969971  26309400   \n",
       "2021-04-08  677.380005  689.549988  671.650024  683.799988  23924300   \n",
       "2021-04-09  677.770020  680.969971  669.429993  677.020020  21402600   \n",
       "\n",
       "            Dividends  Stock Splits  \n",
       "Date                                 \n",
       "2019-01-02          0           0.0  \n",
       "2019-01-03          0           0.0  \n",
       "2019-01-04          0           0.0  \n",
       "2019-01-07          0           0.0  \n",
       "2019-01-08          0           0.0  \n",
       "...               ...           ...  \n",
       "2021-04-05          0           0.0  \n",
       "2021-04-06          0           0.0  \n",
       "2021-04-07          0           0.0  \n",
       "2021-04-08          0           0.0  \n",
       "2021-04-09          0           0.0  \n",
       "\n",
       "[572 rows x 7 columns]"
      ]
     },
     "execution_count": 5,
     "metadata": {},
     "output_type": "execute_result"
    }
   ],
   "source": [
    "stock_df"
   ]
  },
  {
   "cell_type": "code",
   "execution_count": 6,
   "id": "0a592242",
   "metadata": {},
   "outputs": [],
   "source": [
    "def computeRSI (data, time_window):\n",
    "    diff = data.diff(1).dropna()        # diff in one field(one day)\n",
    "\n",
    "    #this preservers dimensions off diff values\n",
    "    up_chg = 0 * diff\n",
    "    down_chg = 0 * diff\n",
    "    \n",
    "    # up change is equal to the positive difference, otherwise equal to zero\n",
    "    up_chg[diff > 0] = diff[ diff>0 ]\n",
    "    \n",
    "    # down change is equal to negative deifference, otherwise equal to zero\n",
    "    down_chg[diff < 0] = diff[ diff < 0 ]\n",
    "    \n",
    "    # check pandas documentation for ewm\n",
    "    # https://pandas.pydata.org/pandas-docs/stable/reference/api/pandas.DataFrame.ewm.html\n",
    "    # values are related to exponential decay\n",
    "    # we set com=time_window-1 so we get decay alpha=1/time_window\n",
    "    up_chg_avg   = up_chg.ewm(com=time_window-1 , min_periods=time_window).mean()\n",
    "    down_chg_avg = down_chg.ewm(com=time_window-1 , min_periods=time_window).mean()\n",
    "    \n",
    "    rs = abs(up_chg_avg/down_chg_avg)\n",
    "    rsi = 100 - 100/(1+rs)\n",
    "    return rsi"
   ]
  },
  {
   "cell_type": "markdown",
   "id": "de8b0a6e",
   "metadata": {},
   "source": [
    "# Data Prep"
   ]
  },
  {
   "cell_type": "code",
   "execution_count": 7,
   "id": "08fff956",
   "metadata": {},
   "outputs": [],
   "source": [
    "stock_df['RSI'] = computeRSI(stock_df.Close, 14)\n",
    "stock_df['NextClose'] = stock_df.Close.shift(-1, fill_value=0)\n",
    "stock_df = stock_df.fillna(0)"
   ]
  },
  {
   "cell_type": "code",
   "execution_count": 8,
   "id": "9ed297a4",
   "metadata": {},
   "outputs": [
    {
     "data": {
      "text/html": [
       "<div>\n",
       "<style scoped>\n",
       "    .dataframe tbody tr th:only-of-type {\n",
       "        vertical-align: middle;\n",
       "    }\n",
       "\n",
       "    .dataframe tbody tr th {\n",
       "        vertical-align: top;\n",
       "    }\n",
       "\n",
       "    .dataframe thead th {\n",
       "        text-align: right;\n",
       "    }\n",
       "</style>\n",
       "<table border=\"1\" class=\"dataframe\">\n",
       "  <thead>\n",
       "    <tr style=\"text-align: right;\">\n",
       "      <th></th>\n",
       "      <th>Open</th>\n",
       "      <th>High</th>\n",
       "      <th>Low</th>\n",
       "      <th>Close</th>\n",
       "      <th>Volume</th>\n",
       "      <th>Dividends</th>\n",
       "      <th>Stock Splits</th>\n",
       "      <th>RSI</th>\n",
       "      <th>NextClose</th>\n",
       "    </tr>\n",
       "    <tr>\n",
       "      <th>Date</th>\n",
       "      <th></th>\n",
       "      <th></th>\n",
       "      <th></th>\n",
       "      <th></th>\n",
       "      <th></th>\n",
       "      <th></th>\n",
       "      <th></th>\n",
       "      <th></th>\n",
       "      <th></th>\n",
       "    </tr>\n",
       "  </thead>\n",
       "  <tbody>\n",
       "    <tr>\n",
       "      <th>2021-04-05</th>\n",
       "      <td>707.710022</td>\n",
       "      <td>708.159973</td>\n",
       "      <td>684.700012</td>\n",
       "      <td>691.049988</td>\n",
       "      <td>41842800</td>\n",
       "      <td>0</td>\n",
       "      <td>0.0</td>\n",
       "      <td>52.640751</td>\n",
       "      <td>691.619995</td>\n",
       "    </tr>\n",
       "    <tr>\n",
       "      <th>2021-04-06</th>\n",
       "      <td>690.299988</td>\n",
       "      <td>696.549988</td>\n",
       "      <td>681.369995</td>\n",
       "      <td>691.619995</td>\n",
       "      <td>28271800</td>\n",
       "      <td>0</td>\n",
       "      <td>0.0</td>\n",
       "      <td>52.730514</td>\n",
       "      <td>670.969971</td>\n",
       "    </tr>\n",
       "    <tr>\n",
       "      <th>2021-04-07</th>\n",
       "      <td>687.000000</td>\n",
       "      <td>691.380005</td>\n",
       "      <td>667.840027</td>\n",
       "      <td>670.969971</td>\n",
       "      <td>26309400</td>\n",
       "      <td>0</td>\n",
       "      <td>0.0</td>\n",
       "      <td>49.099764</td>\n",
       "      <td>683.799988</td>\n",
       "    </tr>\n",
       "    <tr>\n",
       "      <th>2021-04-08</th>\n",
       "      <td>677.380005</td>\n",
       "      <td>689.549988</td>\n",
       "      <td>671.650024</td>\n",
       "      <td>683.799988</td>\n",
       "      <td>23924300</td>\n",
       "      <td>0</td>\n",
       "      <td>0.0</td>\n",
       "      <td>51.341499</td>\n",
       "      <td>677.020020</td>\n",
       "    </tr>\n",
       "    <tr>\n",
       "      <th>2021-04-09</th>\n",
       "      <td>677.770020</td>\n",
       "      <td>680.969971</td>\n",
       "      <td>669.429993</td>\n",
       "      <td>677.020020</td>\n",
       "      <td>21402600</td>\n",
       "      <td>0</td>\n",
       "      <td>0.0</td>\n",
       "      <td>50.086142</td>\n",
       "      <td>0.000000</td>\n",
       "    </tr>\n",
       "  </tbody>\n",
       "</table>\n",
       "</div>"
      ],
      "text/plain": [
       "                  Open        High         Low       Close    Volume  \\\n",
       "Date                                                                   \n",
       "2021-04-05  707.710022  708.159973  684.700012  691.049988  41842800   \n",
       "2021-04-06  690.299988  696.549988  681.369995  691.619995  28271800   \n",
       "2021-04-07  687.000000  691.380005  667.840027  670.969971  26309400   \n",
       "2021-04-08  677.380005  689.549988  671.650024  683.799988  23924300   \n",
       "2021-04-09  677.770020  680.969971  669.429993  677.020020  21402600   \n",
       "\n",
       "            Dividends  Stock Splits        RSI   NextClose  \n",
       "Date                                                        \n",
       "2021-04-05          0           0.0  52.640751  691.619995  \n",
       "2021-04-06          0           0.0  52.730514  670.969971  \n",
       "2021-04-07          0           0.0  49.099764  683.799988  \n",
       "2021-04-08          0           0.0  51.341499  677.020020  \n",
       "2021-04-09          0           0.0  50.086142    0.000000  "
      ]
     },
     "execution_count": 8,
     "metadata": {},
     "output_type": "execute_result"
    }
   ],
   "source": [
    "stock_df.tail()"
   ]
  },
  {
   "cell_type": "markdown",
   "id": "38dadc24",
   "metadata": {},
   "source": [
    "# The Rest"
   ]
  },
  {
   "cell_type": "code",
   "execution_count": 9,
   "id": "d40bbbfc",
   "metadata": {},
   "outputs": [],
   "source": [
    "import sklearn\n",
    "from sklearn.linear_model import LinearRegression\n",
    "from sklearn.model_selection import train_test_split\n",
    "from sklearn.metrics import r2_score, mean_absolute_error, mean_absolute_percentage_error"
   ]
  },
  {
   "cell_type": "code",
   "execution_count": 10,
   "id": "096a3e5a",
   "metadata": {},
   "outputs": [],
   "source": [
    "X = stock_df[['Close', 'RSI']]\n",
    "y = stock_df.NextClose"
   ]
  },
  {
   "cell_type": "code",
   "execution_count": 11,
   "id": "6bd3ca28",
   "metadata": {},
   "outputs": [],
   "source": [
    "X_train, X_test, y_train, y_test = train_test_split(X, y)"
   ]
  },
  {
   "cell_type": "code",
   "execution_count": 12,
   "id": "e52b7fbd",
   "metadata": {},
   "outputs": [],
   "source": [
    "regr = LinearRegression(fit_intercept=False)\n",
    "regr.fit(X_train, y_train)\n",
    "y_pred = regr.predict(X_test)"
   ]
  },
  {
   "cell_type": "code",
   "execution_count": 30,
   "id": "65db140c",
   "metadata": {},
   "outputs": [
    {
     "data": {
      "text/plain": [
       "<BarContainer object of 143 artists>"
      ]
     },
     "execution_count": 30,
     "metadata": {},
     "output_type": "execute_result"
    },
    {
     "data": {
      "image/png": "[encoded data removed]",
      "text/plain": [
       "<Figure size 1080x720 with 1 Axes>"
      ]
     },
     "metadata": {
      "needs_background": "light"
     },
     "output_type": "display_data"
    }
   ],
   "source": [
    "plt.figure(figsize=(15,10))\n",
    "plt.bar(y_test.index, y_test, color = 'r')\n",
    "plt.bar(y_test.index, y_pred, color = 'b')"
   ]
  },
  {
   "cell_type": "code",
   "execution_count": 14,
   "id": "5d6f1c6b",
   "metadata": {},
   "outputs": [
    {
     "name": "stdout",
     "output_type": "stream",
     "text": [
      "r^2 error: 0.996\n",
      "MAE: 8.886\n",
      "Mean % Error: 0.04\n"
     ]
    }
   ],
   "source": [
    "print('r^2 error:', round(r2_score(y_test, y_pred), 3))\n",
    "print('MAE:', round(mean_absolute_error(y_test, y_pred), 3))\n",
    "print('Mean % Error:', round(mean_absolute_percentage_error(y_test, y_pred), 3))"
   ]
  },
  {
   "cell_type": "code",
   "execution_count": 15,
   "id": "db7463f9",
   "metadata": {},
   "outputs": [],
   "source": [
    "stock_df_backtest = tsla.history(period='3mo', interval='1d', start='2018-01-01', end='2018-03-01')\n",
    "stock_df_backtest['RSI'] = computeRSI(stock_df_backtest.Close, 14)\n",
    "stock_df_backtest['NextClose'] = stock_df_backtest.Close.shift(-1)\n",
    "stock_df_backtest = stock_df_backtest.fillna(0)[:-1]"
   ]
  },
  {
   "cell_type": "code",
   "execution_count": 25,
   "id": "fba3fb4f",
   "metadata": {},
   "outputs": [
    {
     "data": {
      "text/plain": [
       "[<matplotlib.lines.Line2D at 0x2289f370>]"
      ]
     },
     "execution_count": 25,
     "metadata": {},
     "output_type": "execute_result"
    },
    {
     "data": {
      "image/png": "[encoded data removed]",
      "text/plain": [
       "<Figure size 1080x720 with 1 Axes>"
      ]
     },
     "metadata": {
      "needs_background": "light"
     },
     "output_type": "display_data"
    }
   ],
   "source": [
    "y_val = stock_df_backtest.NextClose\n",
    "X_val = stock_df_backtest[['Close', 'RSI']]\n",
    "y_val_pred = regr.predict(X_val)\n",
    "\n",
    "plt.figure(figsize=(15,10))\n",
    "plt.plot(y_val.index, y_val, color = 'r')\n",
    "plt.plot(y_val.index, y_val_pred, color = 'b')"
   ]
  },
  {
   "cell_type": "code",
   "execution_count": 17,
   "id": "0941e11f",
   "metadata": {},
   "outputs": [
    {
     "name": "stdout",
     "output_type": "stream",
     "text": [
      "r^2 error: -0.13\n",
      "MAE: 2.042\n",
      "Mean % Error: 0.03\n"
     ]
    }
   ],
   "source": [
    "print('r^2 error:', round(r2_score(y_val, y_val_pred), 3))\n",
    "print('MAE:', round(mean_absolute_error(y_val, y_val_pred), 3))\n",
    "print('Mean % Error:', round(mean_absolute_percentage_error(y_val, y_val_pred), 3))"
   ]
  },
  {
   "cell_type": "code",
   "execution_count": 18,
   "id": "225fc771",
   "metadata": {},
   "outputs": [
    {
     "data": {
      "text/html": [
       "<div>\n",
       "<style scoped>\n",
       "    .dataframe tbody tr th:only-of-type {\n",
       "        vertical-align: middle;\n",
       "    }\n",
       "\n",
       "    .dataframe tbody tr th {\n",
       "        vertical-align: top;\n",
       "    }\n",
       "\n",
       "    .dataframe thead th {\n",
       "        text-align: right;\n",
       "    }\n",
       "</style>\n",
       "<table border=\"1\" class=\"dataframe\">\n",
       "  <thead>\n",
       "    <tr style=\"text-align: right;\">\n",
       "      <th></th>\n",
       "      <th>Open</th>\n",
       "      <th>High</th>\n",
       "      <th>Low</th>\n",
       "      <th>Close</th>\n",
       "      <th>Volume</th>\n",
       "      <th>Dividends</th>\n",
       "      <th>Stock Splits</th>\n",
       "      <th>RSI</th>\n",
       "    </tr>\n",
       "    <tr>\n",
       "      <th>Date</th>\n",
       "      <th></th>\n",
       "      <th></th>\n",
       "      <th></th>\n",
       "      <th></th>\n",
       "      <th></th>\n",
       "      <th></th>\n",
       "      <th></th>\n",
       "      <th></th>\n",
       "    </tr>\n",
       "  </thead>\n",
       "  <tbody>\n",
       "    <tr>\n",
       "      <th>2021-04-08</th>\n",
       "      <td>677.380005</td>\n",
       "      <td>689.549988</td>\n",
       "      <td>671.650024</td>\n",
       "      <td>683.799988</td>\n",
       "      <td>23924300</td>\n",
       "      <td>0</td>\n",
       "      <td>0</td>\n",
       "      <td>0.0</td>\n",
       "    </tr>\n",
       "    <tr>\n",
       "      <th>2021-04-09</th>\n",
       "      <td>677.770020</td>\n",
       "      <td>680.969971</td>\n",
       "      <td>669.429993</td>\n",
       "      <td>677.020020</td>\n",
       "      <td>21402600</td>\n",
       "      <td>0</td>\n",
       "      <td>0</td>\n",
       "      <td>0.0</td>\n",
       "    </tr>\n",
       "  </tbody>\n",
       "</table>\n",
       "</div>"
      ],
      "text/plain": [
       "                  Open        High         Low       Close    Volume  \\\n",
       "Date                                                                   \n",
       "2021-04-08  677.380005  689.549988  671.650024  683.799988  23924300   \n",
       "2021-04-09  677.770020  680.969971  669.429993  677.020020  21402600   \n",
       "\n",
       "            Dividends  Stock Splits  RSI  \n",
       "Date                                      \n",
       "2021-04-08          0             0  0.0  \n",
       "2021-04-09          0             0  0.0  "
      ]
     },
     "execution_count": 18,
     "metadata": {},
     "output_type": "execute_result"
    }
   ],
   "source": [
    "todays_history = tsla.history(period = '1d', interval='1d',start='2021-04-09', end='2021-04-10')\n",
    "todays_history['RSI'] = computeRSI(todays_history.Close, 14)\n",
    "todays_history = todays_history.fillna(0)\n",
    "todays_history"
   ]
  },
  {
   "cell_type": "code",
   "execution_count": 19,
   "id": "bb4c753b",
   "metadata": {},
   "outputs": [],
   "source": [
    "prediction = regr.predict(todays_history[['Close', 'RSI']])"
   ]
  },
  {
   "cell_type": "code",
   "execution_count": 20,
   "id": "80492121",
   "metadata": {},
   "outputs": [
    {
     "data": {
      "text/plain": [
       "array([673.69556498, 667.01578342])"
      ]
     },
     "execution_count": 20,
     "metadata": {},
     "output_type": "execute_result"
    }
   ],
   "source": [
    "prediction"
   ]
  },
  {
   "cell_type": "code",
   "execution_count": null,
   "id": "8d9467ca",
   "metadata": {},
   "outputs": [],
   "source": []
  },
  {
   "cell_type": "code",
   "execution_count": 21,
   "id": "c5e29a8a",
   "metadata": {},
   "outputs": [],
   "source": [
    "import pmdarima as pm\n",
    "from pmdarima.model_selection import train_test_split"
   ]
  },
  {
   "cell_type": "code",
   "execution_count": 22,
   "id": "1a5d25a9",
   "metadata": {},
   "outputs": [],
   "source": [
    "train, test = train_test_split(stock_df.Close, train_size=150)"
   ]
  },
  {
   "cell_type": "code",
   "execution_count": 23,
   "id": "3d3e3c58",
   "metadata": {},
   "outputs": [],
   "source": [
    "# Fit your model\n",
    "model = pm.auto_arima(train, seasonal=True, m=12)\n",
    "\n",
    "# make your forecasts\n",
    "forecasts = model.predict(test.shape[0])  # predict N steps into the future\n",
    "\n",
    "# Visualize the forecasts (blue=train, green=forecasts)\n",
    "# x = np.arange(stock_df.Close.shape[0])"
   ]
  },
  {
   "cell_type": "code",
   "execution_count": 31,
   "id": "0f39977d",
   "metadata": {},
   "outputs": [
    {
     "data": {
      "image/png": "[encoded data removed]",
      "text/plain": [
       "<Figure size 720x720 with 1 Axes>"
      ]
     },
     "metadata": {
      "needs_background": "light"
     },
     "output_type": "display_data"
    }
   ],
   "source": [
    "x = stock_df.index\n",
    "plt.figure(figsize=(10,10))\n",
    "plt.plot(x[:150], train, c='blue')\n",
    "plt.plot(x[:len(test)], test, c='red')\n",
    "plt.plot(x[150:], forecasts, c='green')\n",
    "plt.show()"
   ]
  },
  {
   "cell_type": "code",
   "execution_count": 33,
   "id": "1af24662",
   "metadata": {},
   "outputs": [
    {
     "data": {
      "text/plain": [
       "<AxesSubplot:xlabel='Date'>"
      ]
     },
     "execution_count": 33,
     "metadata": {},
     "output_type": "execute_result"
    },
    {
     "data": {
      "image/png": "[encoded data removed]",
      "text/plain": [
       "<Figure size 432x288 with 1 Axes>"
      ]
     },
     "metadata": {
      "needs_background": "light"
     },
     "output_type": "display_data"
    }
   ],
   "source": [
    "stock_df.Close.plot()"
   ]
  },
  {
   "cell_type": "code",
   "execution_count": null,
   "id": "ff144958",
   "metadata": {},
   "outputs": [],
   "source": []
  }
 ],
 "metadata": {
  "kernelspec": {
   "display_name": "Python 3",
   "language": "python",
   "name": "python3"
  },
  "language_info": {
   "codemirror_mode": {
    "name": "ipython",
    "version": 3
   },
   "file_extension": ".py",
   "mimetype": "text/x-python",
   "name": "python",
   "nbconvert_exporter": "python",
   "pygments_lexer": "ipython3",
   "version": "3.7.3"
  }
 },
 "nbformat": 4,
 "nbformat_minor": 5
}
